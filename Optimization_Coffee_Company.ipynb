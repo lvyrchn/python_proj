{
 "cells": [
  {
   "cell_type": "markdown",
   "metadata": {},
   "source": [
    "**Hill‐O‐Beans Coffee Company blends four component beans into three final blends of coffee: one is\n",
    "sold to luxury hotels, another to restaurants, and the third to supermarkets for store‐label brand.\n",
    "The company has four reliable bean supplies: Argentine Abundo, Peruvian Colmado, Braxilian\n",
    "Maximo, and Chilean Saboro. The table below summarizes the very precise recipe for the final coffee\n",
    "blends, the cost and availability information for the four components, and the wholesale price per\n",
    "pound of the final blends. The percentage indicates the fraction of each component to be used in\n",
    "each blend.**\n",
    "\n",
    "Component(lb) | Hotel | Restaurant | Market | Cost per pound | Max weekly availability\n",
    "\n",
    "Abundo    |    20%   |  35%  |  10%   |   0.60      |       40000\n",
    "\n",
    "Colmado | 40% |15% | 35% | 0.80 | 25000\n",
    "\n",
    "Maximo | 15%| 20% | 40% | 0.55 | 20000\n",
    "\n",
    "Saboro | 25%| 30% | 15% | 0.70 | 45000\n",
    "\n",
    "Wholesale price per pound | 1.25 | 1.50 | 1.40\n",
    "\n",
    "\n",
    "**The processor’s plant can handle no more than 100,000 pounds per week, and Hill‐O‐Beans would\n",
    "like to operate at capacity. There is no problem in selling the final blends, although the Marketing\n",
    "Department requires minimum production levels of 10,000, 25,000, and 30,000 pounds, respectively,\n",
    "for the hotel, restaurant, and market blends.**\n",
    "\n",
    "(a) In order to maximize weekly profit, how many pounds of each component should be purchased?\n",
    "How many pounds of each blend should be produced?"
   ]
  },
  {
   "cell_type": "code",
   "execution_count": 1,
   "metadata": {
    "collapsed": true
   },
   "outputs": [],
   "source": [
    "from pulp import *\n",
    "probA=LpProblem(\"ProblemA\", LpMaximize)\n",
    "\n",
    "bean = [\"Abundo\",\"Colmado\",\"Maximo\",\"Saboro\"]\n",
    "blend = [\"Hotel\",\"Restaurant\",\"Market\"]\n",
    "\n",
    "plant_capacity = 100000\n",
    "\n",
    "bean_cost = [0.6,0.8,0.55,0.7]\n",
    "bean_aval = [40000,25000,20000,45000]\n",
    "prod_level = [10000,25000,30000]\n",
    "blend_price = [1.25,1.5,1.4]\n",
    "\n",
    "perc = [[0.2,0.35,0.1],\\\n",
    "        [0.4,0.15,0.35],\\\n",
    "        [0.15,0.2,0.4],\\\n",
    "        [0.25,0.3,0.15]]\n",
    "\n",
    "bean_cost = makeDict([bean],bean_cost)\n",
    "bean_aval = makeDict([bean],bean_aval)\n",
    "prod_level = makeDict([blend],prod_level)\n",
    "blend_price = makeDict([blend],blend_price)\n",
    "perc = makeDict([bean,blend],perc)\n",
    "\n",
    "bean_vars = LpVariable.dicts('bean_vars',bean,lowBound=0,cat=\"Continuous\")\n",
    "blend_vars = LpVariable.dicts('blend_vars',blend,lowBound=0,cat=\"Continuous\")\n",
    "\n",
    "# Objective Function\n",
    "probA += lpSum([blend_vars[bl]*blend_price[bl] for bl in blend]) - \\\n",
    "         lpSum([bean_vars[b]*bean_cost[b] for b in bean])\n",
    "\n",
    "# Constraints\n",
    "for b in bean:\n",
    "    probA += bean_vars[b] <= bean_aval[b]\n",
    "    probA += lpSum([perc[b][bl]*blend_vars[bl] for bl in blend])== bean_vars[b]\n",
    "\n",
    "for bl in blend:\n",
    "    probA += blend_vars[bl] >= prod_level[bl]\n",
    "\n",
    "probA += lpSum([blend_vars[bl] for bl in blend]) <= plant_capacity"
   ]
  },
  {
   "cell_type": "code",
   "execution_count": 2,
   "metadata": {},
   "outputs": [
    {
     "name": "stdout",
     "output_type": "stream",
     "text": [
      "Status: Optimal\n"
     ]
    }
   ],
   "source": [
    "probA.writeLP(\"ProblemA.lp\")\n",
    "probA.solve()\n",
    "print(\"Status:\",LpStatus[probA.status])"
   ]
  },
  {
   "cell_type": "code",
   "execution_count": 3,
   "metadata": {},
   "outputs": [
    {
     "name": "stdout",
     "output_type": "stream",
     "text": [
      "bean_vars_Abundo = 16375.0 \tReduced Cost = 0.0\n",
      "bean_vars_Colmado = 19375.0 \tReduced Cost = 1.110223e-16\n",
      "bean_vars_Maximo = 20000.0 \tReduced Cost = 0.0\n",
      "bean_vars_Saboro = 16750.0 \tReduced Cost = 0.0\n",
      "blend_vars_Hotel = 10000.0 \tReduced Cost = -5.5511151e-17\n",
      "blend_vars_Market = 30000.0 \tReduced Cost = 0.0\n",
      "blend_vars_Restaurant = 32500.0 \tReduced Cost = 2.4980018e-16\n",
      "Total cost= 55200.0\n"
     ]
    }
   ],
   "source": [
    "for v in probA.variables():\n",
    "    print(v.name, \"=\", v.varValue, \"\\tReduced Cost =\", v.dj)\n",
    "print('Total cost=', value(probA.objective))"
   ]
  },
  {
   "cell_type": "markdown",
   "metadata": {},
   "source": [
    "(b) How much (per pound) should Hill‐O‐Beans be willing to pay for an additional pound of Maximo\n",
    "beans in order to raise total profit?"
   ]
  },
  {
   "cell_type": "code",
   "execution_count": 6,
   "metadata": {},
   "outputs": [
    {
     "name": "stdout",
     "output_type": "stream",
     "text": [
      "\n",
      "Sensitivity Analysis\n",
      "Constraint\t\tShadow Price\tSlack\n",
      "_C1 : bean_vars_Abundo <= 40000 \t -0.0 \t\t 23625.0\n",
      "_C2 : -bean_vars_Abundo + 0.2*blend_vars_Hotel + 0.1*blend_vars_Market + 0.35*blend_vars_Restaurant = -0.0 \t 0.6 \t\t -1.8189894e-12\n",
      "_C3 : bean_vars_Colmado <= 25000 \t -0.0 \t\t 5625.0\n",
      "_C4 : -bean_vars_Colmado + 0.4*blend_vars_Hotel + 0.35*blend_vars_Market + 0.15*blend_vars_Restaurant = -0.0 \t 0.8 \t\t -1.8189894e-12\n",
      "_C5 : bean_vars_Maximo <= 20000 \t 4.25 \t\t -0.0\n",
      "_C6 : -bean_vars_Maximo + 0.15*blend_vars_Hotel + 0.4*blend_vars_Market + 0.2*blend_vars_Restaurant = -0.0 \t 4.8 \t\t -9.094947e-13\n",
      "_C7 : bean_vars_Saboro <= 45000 \t -0.0 \t\t 28250.0\n",
      "_C8 : -bean_vars_Saboro + 0.25*blend_vars_Hotel + 0.15*blend_vars_Market + 0.3*blend_vars_Restaurant = -0.0 \t 0.7 \t\t -0.0\n",
      "_C9 : blend_vars_Hotel >= 10000 \t -0.085 \t\t -0.0\n",
      "_C10 : blend_vars_Restaurant >= 25000 \t -0.0 \t\t -7500.0\n",
      "_C11 : blend_vars_Market >= 30000 \t -0.965 \t\t -0.0\n",
      "_C12 : blend_vars_Hotel + blend_vars_Market + blend_vars_Restaurant <= 100000 \t -0.0 \t\t 27500.0\n"
     ]
    }
   ],
   "source": [
    "print(\"\\nSensitivity Analysis\\nConstraint\\t\\tShadow Price\\tSlack\")\n",
    "for name, c in list(probA.constraints.items()):\n",
    "    print(name, \":\", c, \"\\t\", c.pi, \"\\t\\t\", c.slack)"
   ]
  }
 ],
 "metadata": {
  "kernelspec": {
   "display_name": "Python 3",
   "language": "python",
   "name": "python3"
  },
  "language_info": {
   "codemirror_mode": {
    "name": "ipython",
    "version": 3
   },
   "file_extension": ".py",
   "mimetype": "text/x-python",
   "name": "python",
   "nbconvert_exporter": "python",
   "pygments_lexer": "ipython3",
   "version": "3.6.3"
  }
 },
 "nbformat": 4,
 "nbformat_minor": 2
}
