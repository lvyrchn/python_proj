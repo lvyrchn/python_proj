{
 "cells": [
  {
   "cell_type": "markdown",
   "metadata": {},
   "source": [
    "# Amazon Alexa Review\n",
    "### Conduct Sentiment Analysis using Amazon Alexa Review Data - Supervised Machine Learning"
   ]
  },
  {
   "cell_type": "code",
   "execution_count": 1,
   "metadata": {},
   "outputs": [],
   "source": [
    "from sklearn import metrics \n",
    "import numpy as np \n",
    "import pandas as pd \n",
    "import glob, os  \n",
    "from sklearn.feature_extraction.text import CountVectorizer, TfidfVectorizer "
   ]
  },
  {
   "cell_type": "code",
   "execution_count": 2,
   "metadata": {},
   "outputs": [
    {
     "data": {
      "text/plain": [
       "(3150, 7)"
      ]
     },
     "execution_count": 2,
     "metadata": {},
     "output_type": "execute_result"
    }
   ],
   "source": [
    "reviews = pd.read_csv('norm_amazon_alexa.csv')\n",
    "reviews.shape"
   ]
  },
  {
   "cell_type": "code",
   "execution_count": 3,
   "metadata": {},
   "outputs": [
    {
     "data": {
      "text/html": [
       "<div>\n",
       "<style scoped>\n",
       "    .dataframe tbody tr th:only-of-type {\n",
       "        vertical-align: middle;\n",
       "    }\n",
       "\n",
       "    .dataframe tbody tr th {\n",
       "        vertical-align: top;\n",
       "    }\n",
       "\n",
       "    .dataframe thead th {\n",
       "        text-align: right;\n",
       "    }\n",
       "</style>\n",
       "<table border=\"1\" class=\"dataframe\">\n",
       "  <thead>\n",
       "    <tr style=\"text-align: right;\">\n",
       "      <th></th>\n",
       "      <th>Unnamed: 0</th>\n",
       "      <th>rating</th>\n",
       "      <th>date</th>\n",
       "      <th>variation</th>\n",
       "      <th>verified_reviews</th>\n",
       "      <th>feedback</th>\n",
       "      <th>norm_review</th>\n",
       "    </tr>\n",
       "  </thead>\n",
       "  <tbody>\n",
       "    <tr>\n",
       "      <th>0</th>\n",
       "      <td>0</td>\n",
       "      <td>5</td>\n",
       "      <td>31-Jul-18</td>\n",
       "      <td>Charcoal Fabric</td>\n",
       "      <td>Love my Echo!</td>\n",
       "      <td>1</td>\n",
       "      <td>love echo</td>\n",
       "    </tr>\n",
       "    <tr>\n",
       "      <th>1</th>\n",
       "      <td>1</td>\n",
       "      <td>5</td>\n",
       "      <td>31-Jul-18</td>\n",
       "      <td>Charcoal Fabric</td>\n",
       "      <td>Loved it!</td>\n",
       "      <td>1</td>\n",
       "      <td>love</td>\n",
       "    </tr>\n",
       "  </tbody>\n",
       "</table>\n",
       "</div>"
      ],
      "text/plain": [
       "   Unnamed: 0  rating       date         variation verified_reviews  feedback  \\\n",
       "0           0       5  31-Jul-18  Charcoal Fabric     Love my Echo!         1   \n",
       "1           1       5  31-Jul-18  Charcoal Fabric         Loved it!         1   \n",
       "\n",
       "  norm_review  \n",
       "0   love echo  \n",
       "1        love  "
      ]
     },
     "execution_count": 3,
     "metadata": {},
     "output_type": "execute_result"
    }
   ],
   "source": [
    "reviews.head(2)"
   ]
  },
  {
   "cell_type": "code",
   "execution_count": 4,
   "metadata": {},
   "outputs": [
    {
     "data": {
      "text/plain": [
       "(3064, 7)"
      ]
     },
     "execution_count": 4,
     "metadata": {},
     "output_type": "execute_result"
    }
   ],
   "source": [
    "reviews = reviews.dropna(subset = ['norm_review']).reset_index(drop=True)\n",
    "reviews.shape"
   ]
  },
  {
   "cell_type": "code",
   "execution_count": 5,
   "metadata": {},
   "outputs": [
    {
     "data": {
      "text/plain": [
       "positive    2826\n",
       "negative     238\n",
       "Name: feedback, dtype: int64"
      ]
     },
     "execution_count": 5,
     "metadata": {},
     "output_type": "execute_result"
    }
   ],
   "source": [
    "reviews.loc[:,['Unnamed: 0','norm_review','feedback']].feedback.map({1: 'positive', 0: 'negative'}).value_counts()"
   ]
  },
  {
   "cell_type": "code",
   "execution_count": 6,
   "metadata": {},
   "outputs": [],
   "source": [
    "reviews['polarity'] = reviews.feedback.map({1: 'positive', 0: 'negative'})"
   ]
  },
  {
   "cell_type": "code",
   "execution_count": 7,
   "metadata": {},
   "outputs": [
    {
     "data": {
      "text/html": [
       "<div>\n",
       "<style scoped>\n",
       "    .dataframe tbody tr th:only-of-type {\n",
       "        vertical-align: middle;\n",
       "    }\n",
       "\n",
       "    .dataframe tbody tr th {\n",
       "        vertical-align: top;\n",
       "    }\n",
       "\n",
       "    .dataframe thead th {\n",
       "        text-align: right;\n",
       "    }\n",
       "</style>\n",
       "<table border=\"1\" class=\"dataframe\">\n",
       "  <thead>\n",
       "    <tr style=\"text-align: right;\">\n",
       "      <th></th>\n",
       "      <th>i</th>\n",
       "      <th>file_name</th>\n",
       "      <th>review_text</th>\n",
       "      <th>polarity</th>\n",
       "    </tr>\n",
       "  </thead>\n",
       "  <tbody>\n",
       "    <tr>\n",
       "      <th>0</th>\n",
       "      <td>0</td>\n",
       "      <td>0</td>\n",
       "      <td>love echo</td>\n",
       "      <td>positive</td>\n",
       "    </tr>\n",
       "    <tr>\n",
       "      <th>1</th>\n",
       "      <td>1</td>\n",
       "      <td>1</td>\n",
       "      <td>love</td>\n",
       "      <td>positive</td>\n",
       "    </tr>\n",
       "  </tbody>\n",
       "</table>\n",
       "</div>"
      ],
      "text/plain": [
       "   i  file_name review_text  polarity\n",
       "0  0          0   love echo  positive\n",
       "1  1          1        love  positive"
      ]
     },
     "execution_count": 7,
     "metadata": {},
     "output_type": "execute_result"
    }
   ],
   "source": [
    "df_reviews = reviews.loc[:,['Unnamed: 0','norm_review','polarity']]\\\n",
    "                    .reset_index()\\\n",
    "                    .rename(columns={'index':'i','Unnamed: 0':'file_name','norm_review':'review_text'})\n",
    "                    \n",
    "df_reviews.head(2)"
   ]
  },
  {
   "cell_type": "code",
   "execution_count": 8,
   "metadata": {},
   "outputs": [
    {
     "name": "stdout",
     "output_type": "stream",
     "text": [
      "n_train: 2144\n",
      "n_test: 920\n"
     ]
    }
   ],
   "source": [
    "import random\n",
    "n = 3064\n",
    "n_train = int(n*0.7)\n",
    "n_test = n - n_train \n",
    "\n",
    "i_train = random.sample(range(n), n_train)\n",
    "print('n_train:',n_train)\n",
    "print('n_test:',n_test)"
   ]
  },
  {
   "cell_type": "code",
   "execution_count": 9,
   "metadata": {},
   "outputs": [],
   "source": [
    "def get_train_and_test(row):\n",
    "    i = row['i']\n",
    "    if i in i_train:\n",
    "        return 'train'\n",
    "    return 'test'"
   ]
  },
  {
   "cell_type": "code",
   "execution_count": 10,
   "metadata": {},
   "outputs": [
    {
     "data": {
      "text/html": [
       "<div>\n",
       "<style scoped>\n",
       "    .dataframe tbody tr th:only-of-type {\n",
       "        vertical-align: middle;\n",
       "    }\n",
       "\n",
       "    .dataframe tbody tr th {\n",
       "        vertical-align: top;\n",
       "    }\n",
       "\n",
       "    .dataframe thead th {\n",
       "        text-align: right;\n",
       "    }\n",
       "</style>\n",
       "<table border=\"1\" class=\"dataframe\">\n",
       "  <thead>\n",
       "    <tr style=\"text-align: right;\">\n",
       "      <th></th>\n",
       "      <th>i</th>\n",
       "      <th>file_name</th>\n",
       "      <th>review_text</th>\n",
       "      <th>polarity</th>\n",
       "      <th>type</th>\n",
       "    </tr>\n",
       "  </thead>\n",
       "  <tbody>\n",
       "    <tr>\n",
       "      <th>0</th>\n",
       "      <td>0</td>\n",
       "      <td>0</td>\n",
       "      <td>love echo</td>\n",
       "      <td>positive</td>\n",
       "      <td>test</td>\n",
       "    </tr>\n",
       "    <tr>\n",
       "      <th>1</th>\n",
       "      <td>1</td>\n",
       "      <td>1</td>\n",
       "      <td>love</td>\n",
       "      <td>positive</td>\n",
       "      <td>train</td>\n",
       "    </tr>\n",
       "  </tbody>\n",
       "</table>\n",
       "</div>"
      ],
      "text/plain": [
       "   i  file_name review_text  polarity   type\n",
       "0  0          0   love echo  positive   test\n",
       "1  1          1        love  positive  train"
      ]
     },
     "execution_count": 10,
     "metadata": {},
     "output_type": "execute_result"
    }
   ],
   "source": [
    "df_reviews['type'] = df_reviews.apply(get_train_and_test,axis=1)\n",
    "df_reviews.head(2)"
   ]
  },
  {
   "cell_type": "code",
   "execution_count": 11,
   "metadata": {},
   "outputs": [],
   "source": [
    "doc_train = df_reviews.loc[df_reviews.type=='train',['file_name','review_text','polarity']]\n",
    "doc_test  = df_reviews.loc[df_reviews.type=='test' ,['file_name','review_text','polarity']]"
   ]
  },
  {
   "cell_type": "code",
   "execution_count": 12,
   "metadata": {},
   "outputs": [],
   "source": [
    "norm_reviews_train = doc_train['review_text']\n",
    "norm_reviews_test  = doc_test['review_text']"
   ]
  },
  {
   "cell_type": "markdown",
   "metadata": {},
   "source": [
    "### Tfidf:"
   ]
  },
  {
   "cell_type": "code",
   "execution_count": 13,
   "metadata": {},
   "outputs": [],
   "source": [
    "vectorizer = TfidfVectorizer(ngram_range = (1,2)) \n",
    "feature_matrix_TRAIN = vectorizer.fit_transform(norm_reviews_train).astype(float)\n",
    "\n",
    "# vectorizer_alt = TfidfVectorizer(ngram_range = (1,1)) \n",
    "# feature_matrix_TRAIN_alt = vectorizer_alt.fit_transform(norm_reviews_train).astype(float)\n",
    "\n",
    "feature_matrix_TEST = vectorizer.transform(norm_reviews_test)\n",
    "#feature_matrix_TEST_alt = vectorizer_alt.transform(norm_reviews_test)"
   ]
  },
  {
   "cell_type": "markdown",
   "metadata": {},
   "source": [
    "### BOW: "
   ]
  },
  {
   "cell_type": "code",
   "execution_count": 117,
   "metadata": {},
   "outputs": [],
   "source": [
    "#from sklearn.feature_extraction.text import CountVectorizer"
   ]
  },
  {
   "cell_type": "code",
   "execution_count": 159,
   "metadata": {},
   "outputs": [],
   "source": [
    "#bow_vectorizer = CountVectorizer(stop_words = 'english',ngram_range = (1,2)) \n",
    "#feature_matrix_TRAIN = bow_vectorizer.fit_transform(norm_reviews_train)\n",
    "\n",
    "#feature_matrix_TEST = bow_vectorizer.transform(norm_reviews_test)"
   ]
  },
  {
   "cell_type": "markdown",
   "metadata": {},
   "source": [
    "# Models"
   ]
  },
  {
   "cell_type": "markdown",
   "metadata": {},
   "source": [
    "## 1. SVM:"
   ]
  },
  {
   "cell_type": "markdown",
   "metadata": {},
   "source": [
    "Estimate the the classification model for sentiment analysis based on Support Vector Machines method and do prediction of sentiment polarity for the test data:"
   ]
  },
  {
   "cell_type": "code",
   "execution_count": 14,
   "metadata": {},
   "outputs": [
    {
     "name": "stderr",
     "output_type": "stream",
     "text": [
      "/Users/alicelyu/anaconda3/lib/python3.6/site-packages/sklearn/linear_model/stochastic_gradient.py:166: FutureWarning: max_iter and tol parameters have been added in SGDClassifier in 0.19. If both are left unset, they default to max_iter=5 and tol=None. If tol is not None, max_iter defaults to max_iter=1000. From 0.21, default max_iter will be 1000, and default tol will be 1e-3.\n",
      "  FutureWarning)\n"
     ]
    }
   ],
   "source": [
    "from sklearn import linear_model\n",
    "\n",
    "sent_analysis_svm = linear_model.SGDClassifier(loss='hinge', random_state = 0) \n",
    "sent_analysis_svm.fit(feature_matrix_TRAIN, doc_train['polarity'])\n",
    "predicted_svm = sent_analysis_svm.predict(feature_matrix_TEST) \n",
    "\n",
    "# sent_analysis_svm_alt = linear_model.SGDClassifier(loss='hinge',random_state = 0) \n",
    "# sent_analysis_svm_alt.fit(feature_matrix_TRAIN_alt, doc_train['polarity'])\n",
    "# predicted_svm_alt = sent_analysis_svm_alt.predict(feature_matrix_TEST_alt)  "
   ]
  },
  {
   "cell_type": "code",
   "execution_count": 15,
   "metadata": {},
   "outputs": [
    {
     "name": "stdout",
     "output_type": "stream",
     "text": [
      "SVM\n",
      "Accuracy: 0.95\n",
      "CONFUSION MATRIX:\n"
     ]
    },
    {
     "data": {
      "text/html": [
       "<div>\n",
       "<style scoped>\n",
       "    .dataframe tbody tr th:only-of-type {\n",
       "        vertical-align: middle;\n",
       "    }\n",
       "\n",
       "    .dataframe tbody tr th {\n",
       "        vertical-align: top;\n",
       "    }\n",
       "\n",
       "    .dataframe thead th {\n",
       "        text-align: right;\n",
       "    }\n",
       "</style>\n",
       "<table border=\"1\" class=\"dataframe\">\n",
       "  <thead>\n",
       "    <tr style=\"text-align: right;\">\n",
       "      <th>Predicted</th>\n",
       "      <th>negative</th>\n",
       "      <th>positive</th>\n",
       "      <th>All</th>\n",
       "    </tr>\n",
       "    <tr>\n",
       "      <th>True</th>\n",
       "      <th></th>\n",
       "      <th></th>\n",
       "      <th></th>\n",
       "    </tr>\n",
       "  </thead>\n",
       "  <tbody>\n",
       "    <tr>\n",
       "      <th>negative</th>\n",
       "      <td>21</td>\n",
       "      <td>38</td>\n",
       "      <td>59</td>\n",
       "    </tr>\n",
       "    <tr>\n",
       "      <th>positive</th>\n",
       "      <td>8</td>\n",
       "      <td>853</td>\n",
       "      <td>861</td>\n",
       "    </tr>\n",
       "    <tr>\n",
       "      <th>All</th>\n",
       "      <td>29</td>\n",
       "      <td>891</td>\n",
       "      <td>920</td>\n",
       "    </tr>\n",
       "  </tbody>\n",
       "</table>\n",
       "</div>"
      ],
      "text/plain": [
       "Predicted  negative  positive  All\n",
       "True                              \n",
       "negative         21        38   59\n",
       "positive          8       853  861\n",
       "All              29       891  920"
      ]
     },
     "execution_count": 15,
     "metadata": {},
     "output_type": "execute_result"
    }
   ],
   "source": [
    "from sklearn import metrics\n",
    "\n",
    "true_labels = doc_test['polarity']\n",
    "predicted_labels = predicted_svm\n",
    "positive_class = 'positive'\n",
    "\n",
    "print('SVM')\n",
    "\n",
    "print('Accuracy:', np.round(metrics.accuracy_score(true_labels, \n",
    "                                                        predicted_labels), 3))\n",
    "\n",
    "print('CONFUSION MATRIX:')\n",
    "pd.crosstab(pd.Series(doc_test['polarity'].tolist()), \n",
    "            pd.Series(predicted_labels.tolist()), \n",
    "            rownames = ['True'], \n",
    "            colnames = ['Predicted'], \n",
    "            margins = True)"
   ]
  },
  {
   "cell_type": "markdown",
   "metadata": {},
   "source": [
    "## 2. Logit:"
   ]
  },
  {
   "cell_type": "code",
   "execution_count": 16,
   "metadata": {},
   "outputs": [],
   "source": [
    "sent_analysis_log = linear_model.SGDClassifier(loss='log', random_state = 0) \n",
    "sent_analysis_log.fit(feature_matrix_TRAIN, doc_train['polarity'])\n",
    "predicted_log = sent_analysis_log.predict(feature_matrix_TEST) \n",
    "\n",
    "# sent_analysis_log_alt = linear_model.SGDClassifier(loss='log',random_state = 0) \n",
    "# sent_analysis_log_alt.fit(feature_matrix_TRAIN_alt, doc_train['polarity'])\n",
    "# predicted_log_alt = sent_analysis_log_alt.predict(feature_matrix_TEST_alt)  "
   ]
  },
  {
   "cell_type": "code",
   "execution_count": 17,
   "metadata": {},
   "outputs": [
    {
     "name": "stdout",
     "output_type": "stream",
     "text": [
      "Logit\n",
      "Accuracy: 0.946\n",
      "CONFUSION MATRIX:\n"
     ]
    },
    {
     "data": {
      "text/html": [
       "<div>\n",
       "<style scoped>\n",
       "    .dataframe tbody tr th:only-of-type {\n",
       "        vertical-align: middle;\n",
       "    }\n",
       "\n",
       "    .dataframe tbody tr th {\n",
       "        vertical-align: top;\n",
       "    }\n",
       "\n",
       "    .dataframe thead th {\n",
       "        text-align: right;\n",
       "    }\n",
       "</style>\n",
       "<table border=\"1\" class=\"dataframe\">\n",
       "  <thead>\n",
       "    <tr style=\"text-align: right;\">\n",
       "      <th>Predicted</th>\n",
       "      <th>negative</th>\n",
       "      <th>positive</th>\n",
       "      <th>All</th>\n",
       "    </tr>\n",
       "    <tr>\n",
       "      <th>True</th>\n",
       "      <th></th>\n",
       "      <th></th>\n",
       "      <th></th>\n",
       "    </tr>\n",
       "  </thead>\n",
       "  <tbody>\n",
       "    <tr>\n",
       "      <th>negative</th>\n",
       "      <td>11</td>\n",
       "      <td>48</td>\n",
       "      <td>59</td>\n",
       "    </tr>\n",
       "    <tr>\n",
       "      <th>positive</th>\n",
       "      <td>2</td>\n",
       "      <td>859</td>\n",
       "      <td>861</td>\n",
       "    </tr>\n",
       "    <tr>\n",
       "      <th>All</th>\n",
       "      <td>13</td>\n",
       "      <td>907</td>\n",
       "      <td>920</td>\n",
       "    </tr>\n",
       "  </tbody>\n",
       "</table>\n",
       "</div>"
      ],
      "text/plain": [
       "Predicted  negative  positive  All\n",
       "True                              \n",
       "negative         11        48   59\n",
       "positive          2       859  861\n",
       "All              13       907  920"
      ]
     },
     "execution_count": 17,
     "metadata": {},
     "output_type": "execute_result"
    }
   ],
   "source": [
    "from sklearn import metrics\n",
    "\n",
    "true_labels = doc_test['polarity']\n",
    "predicted_labels = predicted_log\n",
    "positive_class = 'positive'\n",
    "\n",
    "print('Logit')\n",
    "\n",
    "print('Accuracy:', np.round(metrics.accuracy_score(true_labels, \n",
    "                                                        predicted_labels), 3))\n",
    "\n",
    "print('CONFUSION MATRIX:')\n",
    "pd.crosstab(pd.Series(doc_test['polarity'].tolist()), \n",
    "            pd.Series(predicted_labels.tolist()), \n",
    "            rownames = ['True'], \n",
    "            colnames = ['Predicted'], \n",
    "            margins = True)"
   ]
  },
  {
   "cell_type": "markdown",
   "metadata": {},
   "source": [
    "**BOOTSTRAPPING FOR MODEL COMPARISON:**"
   ]
  },
  {
   "cell_type": "code",
   "execution_count": 18,
   "metadata": {},
   "outputs": [],
   "source": [
    "import numpy as np\n",
    "from sklearn.utils import resample\n",
    "from sklearn.tree import DecisionTreeClassifier\n",
    "from sklearn.metrics import accuracy_score\n",
    "from matplotlib import pyplot"
   ]
  },
  {
   "cell_type": "markdown",
   "metadata": {},
   "source": [
    "Configure bootstrap: select number of iterations, sample size and generate observation ids:"
   ]
  },
  {
   "cell_type": "code",
   "execution_count": 19,
   "metadata": {},
   "outputs": [],
   "source": [
    "n_iterations = 500\n",
    "n_size = n_test\n",
    "ids = range(n_size)"
   ]
  },
  {
   "cell_type": "markdown",
   "metadata": {},
   "source": [
    "Display the accuracy for the original and the alternative models, as well as the difference in accuracy, delta:"
   ]
  },
  {
   "cell_type": "code",
   "execution_count": 20,
   "metadata": {},
   "outputs": [
    {
     "name": "stdout",
     "output_type": "stream",
     "text": [
      "Accuracy prediction, original:  0.95\n",
      "Accuracy prediction, alternative:  0.946\n",
      "Difference in accuracy prediction:  0.0040000000000000036\n"
     ]
    }
   ],
   "source": [
    "svm_accuracy = np.round(metrics.accuracy_score(np.array(doc_test['polarity']), predicted_svm), 3)\n",
    "log_accuracy = np.round(metrics.accuracy_score(np.array(doc_test['polarity']), predicted_log), 3)\n",
    "delta_test = svm_accuracy - log_accuracy\n",
    "print(\"Accuracy prediction, original: \", svm_accuracy)\n",
    "print(\"Accuracy prediction, alternative: \", log_accuracy)\n",
    "print(\"Difference in accuracy prediction: \", delta_test)"
   ]
  },
  {
   "cell_type": "markdown",
   "metadata": {},
   "source": [
    "Run the bootstrap:"
   ]
  },
  {
   "cell_type": "code",
   "execution_count": 21,
   "metadata": {},
   "outputs": [],
   "source": [
    "svm_accuracy_boot = list()\n",
    "svm_accuracy_boot_alt = list()\n",
    "\n",
    "\n",
    "s = 0\n",
    "\n",
    "for i in range(n_iterations):\n",
    "    \n",
    "    #prepare a pseudo test set\n",
    "    test_ids = resample(ids, n_samples = n_size)\n",
    "    actual_sentiments = np.array(doc_test['polarity'])[test_ids]\n",
    "    \n",
    "    #compute predictions on the pseudo sample\n",
    "    svm_predicted     = sent_analysis_svm.predict(feature_matrix_TEST[test_ids])\n",
    "    svm_predicted_alt = sent_analysis_log.predict(feature_matrix_TEST[test_ids])\n",
    "    \n",
    "    #compute accuracy for the pseudo sample\n",
    "    svm_accuracy_boot_iter = metrics.accuracy_score(np.array(doc_test['polarity'])[test_ids], svm_predicted)\n",
    "    svm_accuracy_boot_iter_alt = metrics.accuracy_score(np.array(doc_test['polarity'])[test_ids], svm_predicted_alt)\n",
    "\n",
    "    delta = svm_accuracy_boot_iter - svm_accuracy_boot_iter_alt\n",
    "    \n",
    "    if delta > 1.5*delta_test:\n",
    "        s = s+1\n",
    "    \n",
    "    pvalue = float(s)/n_iterations\n",
    "    \n",
    "    svm_accuracy_boot.append(svm_accuracy_boot_iter)\n",
    "    svm_accuracy_boot_alt.append(svm_accuracy_boot_iter_alt)"
   ]
  },
  {
   "cell_type": "code",
   "execution_count": 22,
   "metadata": {},
   "outputs": [
    {
     "name": "stdout",
     "output_type": "stream",
     "text": [
      "p-value:  0.33\n",
      "Mean accuracy for Original Model:  0.951\n",
      "Mean accuracy for Alternative Model:  0.946\n"
     ]
    },
    {
     "data": {
      "image/png": "[encoded data removed]",
      "text/plain": [
       "<Figure size 432x288 with 1 Axes>"
      ]
     },
     "metadata": {
      "needs_background": "light"
     },
     "output_type": "display_data"
    },
    {
     "data": {
      "image/png": "[encoded data removed]",
      "text/plain": [
       "<Figure size 432x288 with 1 Axes>"
      ]
     },
     "metadata": {
      "needs_background": "light"
     },
     "output_type": "display_data"
    }
   ],
   "source": [
    "print('p-value: ', pvalue)\n",
    "print('Mean accuracy for Original Model: ', np.round(np.mean(svm_accuracy_boot),3))\n",
    "print('Mean accuracy for Alternative Model: ', np.round(np.mean(svm_accuracy_boot_alt),3))\n",
    "\n",
    "import matplotlib.pyplot as plt\n",
    "\n",
    "plt.hist(svm_accuracy_boot,bins = 30)\n",
    "plt.xlabel(\"distribution of accuracy rates\")\n",
    "plt.title(\"Original Model\")\n",
    "plt.show()\n",
    "\n",
    "plt.hist(svm_accuracy_boot_alt,bins = 30)\n",
    "plt.xlabel(\"distribution of accuracy rates\")\n",
    "plt.title(\"Alternative Model\")\n",
    "plt.show()"
   ]
  },
  {
   "cell_type": "markdown",
   "metadata": {},
   "source": [
    "Let's visualize the performance (accuracy) of the two models on the bostrapped test datasets by plotting the accuracy rates: "
   ]
  },
  {
   "cell_type": "code",
   "execution_count": 44,
   "metadata": {},
   "outputs": [
    {
     "data": {
      "image/png": "[encoded data removed]",
      "text/plain": [
       "<Figure size 432x288 with 1 Axes>"
      ]
     },
     "metadata": {
      "needs_background": "light"
     },
     "output_type": "display_data"
    },
    {
     "data": {
      "image/png": "[encoded data removed]",
      "text/plain": [
       "<Figure size 432x288 with 1 Axes>"
      ]
     },
     "metadata": {
      "needs_background": "light"
     },
     "output_type": "display_data"
    }
   ],
   "source": [
    "import matplotlib.pyplot as plt\n",
    "\n",
    "plt.hist(svm_accuracy_boot,bins = 30)\n",
    "plt.xlabel(\"distribution of accuracy rates\")\n",
    "plt.title(\"Original Model\")\n",
    "plt.show()\n",
    "\n",
    "plt.hist(svm_accuracy_boot_alt,bins = 30)\n",
    "plt.xlabel(\"distribution of accuracy rates\")\n",
    "plt.title(\"Alternative Model\")\n",
    "plt.show()"
   ]
  },
  {
   "cell_type": "code",
   "execution_count": 103,
   "metadata": {},
   "outputs": [
    {
     "data": {
      "text/plain": [
       "Black  Dot                      494\n",
       "Charcoal Fabric                 430\n",
       "Configuration: Fire TV Stick    338\n",
       "Black  Plus                     261\n",
       "Black  Show                     258\n",
       "Black                           257\n",
       "Black  Spot                     235\n",
       "White  Dot                      180\n",
       "Heather Gray Fabric             151\n",
       "White  Spot                     104\n",
       "White                            88\n",
       "Sandstone Fabric                 88\n",
       "White  Show                      82\n",
       "White  Plus                      75\n",
       "Oak Finish                       14\n",
       "Walnut Finish                     9\n",
       "Name: variation, dtype: int64"
      ]
     },
     "execution_count": 103,
     "metadata": {},
     "output_type": "execute_result"
    }
   ],
   "source": [
    "reviews.variation.value_counts()"
   ]
  },
  {
   "cell_type": "code",
   "execution_count": 99,
   "metadata": {},
   "outputs": [
    {
     "data": {
      "text/html": [
       "<div>\n",
       "<style scoped>\n",
       "    .dataframe tbody tr th:only-of-type {\n",
       "        vertical-align: middle;\n",
       "    }\n",
       "\n",
       "    .dataframe tbody tr th {\n",
       "        vertical-align: top;\n",
       "    }\n",
       "\n",
       "    .dataframe thead th {\n",
       "        text-align: right;\n",
       "    }\n",
       "</style>\n",
       "<table border=\"1\" class=\"dataframe\">\n",
       "  <thead>\n",
       "    <tr style=\"text-align: right;\">\n",
       "      <th></th>\n",
       "      <th>Unnamed: 0</th>\n",
       "      <th>rating</th>\n",
       "      <th>feedback</th>\n",
       "    </tr>\n",
       "    <tr>\n",
       "      <th>variation</th>\n",
       "      <th></th>\n",
       "      <th></th>\n",
       "      <th></th>\n",
       "    </tr>\n",
       "  </thead>\n",
       "  <tbody>\n",
       "    <tr>\n",
       "      <th>Black</th>\n",
       "      <td>520.988327</td>\n",
       "      <td>4.245136</td>\n",
       "      <td>0.867704</td>\n",
       "    </tr>\n",
       "    <tr>\n",
       "      <th>Black  Dot</th>\n",
       "      <td>2791.726721</td>\n",
       "      <td>4.469636</td>\n",
       "      <td>0.931174</td>\n",
       "    </tr>\n",
       "    <tr>\n",
       "      <th>Black  Plus</th>\n",
       "      <td>1917.674330</td>\n",
       "      <td>4.379310</td>\n",
       "      <td>0.896552</td>\n",
       "    </tr>\n",
       "    <tr>\n",
       "      <th>Black  Show</th>\n",
       "      <td>1575.523256</td>\n",
       "      <td>4.492248</td>\n",
       "      <td>0.934109</td>\n",
       "    </tr>\n",
       "    <tr>\n",
       "      <th>Black  Spot</th>\n",
       "      <td>1226.187234</td>\n",
       "      <td>4.336170</td>\n",
       "      <td>0.872340</td>\n",
       "    </tr>\n",
       "    <tr>\n",
       "      <th>Charcoal Fabric</th>\n",
       "      <td>529.634884</td>\n",
       "      <td>4.730233</td>\n",
       "      <td>0.972093</td>\n",
       "    </tr>\n",
       "    <tr>\n",
       "      <th>Configuration: Fire TV Stick</th>\n",
       "      <td>2275.931953</td>\n",
       "      <td>4.612426</td>\n",
       "      <td>0.926036</td>\n",
       "    </tr>\n",
       "    <tr>\n",
       "      <th>Heather Gray Fabric</th>\n",
       "      <td>529.165563</td>\n",
       "      <td>4.708609</td>\n",
       "      <td>0.986755</td>\n",
       "    </tr>\n",
       "    <tr>\n",
       "      <th>Oak Finish</th>\n",
       "      <td>461.785714</td>\n",
       "      <td>4.857143</td>\n",
       "      <td>1.000000</td>\n",
       "    </tr>\n",
       "    <tr>\n",
       "      <th>Sandstone Fabric</th>\n",
       "      <td>516.318182</td>\n",
       "      <td>4.340909</td>\n",
       "      <td>0.931818</td>\n",
       "    </tr>\n",
       "    <tr>\n",
       "      <th>Walnut Finish</th>\n",
       "      <td>414.222222</td>\n",
       "      <td>4.888889</td>\n",
       "      <td>1.000000</td>\n",
       "    </tr>\n",
       "    <tr>\n",
       "      <th>White</th>\n",
       "      <td>535.590909</td>\n",
       "      <td>4.193182</td>\n",
       "      <td>0.829545</td>\n",
       "    </tr>\n",
       "    <tr>\n",
       "      <th>White  Dot</th>\n",
       "      <td>2815.688889</td>\n",
       "      <td>4.477778</td>\n",
       "      <td>0.944444</td>\n",
       "    </tr>\n",
       "    <tr>\n",
       "      <th>White  Plus</th>\n",
       "      <td>1942.293333</td>\n",
       "      <td>4.386667</td>\n",
       "      <td>0.906667</td>\n",
       "    </tr>\n",
       "    <tr>\n",
       "      <th>White  Show</th>\n",
       "      <td>1573.158537</td>\n",
       "      <td>4.304878</td>\n",
       "      <td>0.878049</td>\n",
       "    </tr>\n",
       "    <tr>\n",
       "      <th>White  Spot</th>\n",
       "      <td>1218.375000</td>\n",
       "      <td>4.403846</td>\n",
       "      <td>0.913462</td>\n",
       "    </tr>\n",
       "  </tbody>\n",
       "</table>\n",
       "</div>"
      ],
      "text/plain": [
       "                               Unnamed: 0    rating  feedback\n",
       "variation                                                    \n",
       "Black                          520.988327  4.245136  0.867704\n",
       "Black  Dot                    2791.726721  4.469636  0.931174\n",
       "Black  Plus                   1917.674330  4.379310  0.896552\n",
       "Black  Show                   1575.523256  4.492248  0.934109\n",
       "Black  Spot                   1226.187234  4.336170  0.872340\n",
       "Charcoal Fabric                529.634884  4.730233  0.972093\n",
       "Configuration: Fire TV Stick  2275.931953  4.612426  0.926036\n",
       "Heather Gray Fabric            529.165563  4.708609  0.986755\n",
       "Oak Finish                     461.785714  4.857143  1.000000\n",
       "Sandstone Fabric               516.318182  4.340909  0.931818\n",
       "Walnut Finish                  414.222222  4.888889  1.000000\n",
       "White                          535.590909  4.193182  0.829545\n",
       "White  Dot                    2815.688889  4.477778  0.944444\n",
       "White  Plus                   1942.293333  4.386667  0.906667\n",
       "White  Show                   1573.158537  4.304878  0.878049\n",
       "White  Spot                   1218.375000  4.403846  0.913462"
      ]
     },
     "execution_count": 99,
     "metadata": {},
     "output_type": "execute_result"
    }
   ],
   "source": [
    "reviews.groupby(by=['variation']).mean()"
   ]
  }
 ],
 "metadata": {
  "kernelspec": {
   "display_name": "Python 3",
   "language": "python",
   "name": "python3"
  },
  "language_info": {
   "codemirror_mode": {
    "name": "ipython",
    "version": 3
   },
   "file_extension": ".py",
   "mimetype": "text/x-python",
   "name": "python",
   "nbconvert_exporter": "python",
   "pygments_lexer": "ipython3",
   "version": "3.6.8"
  }
 },
 "nbformat": 4,
 "nbformat_minor": 2
}
