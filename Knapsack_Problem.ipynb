{
 "cells": [
  {
   "cell_type": "markdown",
   "metadata": {},
   "source": [
    "# Knapsack Problem"
   ]
  },
  {
   "cell_type": "markdown",
   "metadata": {},
   "source": [
    "Statchel can only hold C lbs. of treasure. There are n items in the treasure chest. Each item i: value vi and a weight wi.\n",
    "\n",
    "**Which items should be put in the satchel to maximize value?**\n",
    "\n",
    "In the Project:\n",
    "\n",
    "• 500 Knapsack Instances\n",
    "\n",
    "• C in U[100,150]\n",
    "\n",
    "• Only find out C once you choose which items to put in the knapsack\n",
    "\n",
    "• If you go over C, then you get nothing for that instance"
   ]
  },
  {
   "cell_type": "markdown",
   "metadata": {},
   "source": [
    "## 1. Use Dynamic Programming to Maximize the Value of a Given Bag Size:"
   ]
  },
  {
   "cell_type": "code",
   "execution_count": 1,
   "metadata": {
    "collapsed": true
   },
   "outputs": [],
   "source": [
    "import numpy as np\n",
    "\n",
    "def solution(i,j,wt,val,track):\n",
    "    if track[int(i)][int(j)] != []:\n",
    "        return track[int(i)][int(j)]\n",
    "    if i == 0 or j == 0:\n",
    "        ans = 0\n",
    "    elif wt[i-1] > j:\n",
    "        ans = solution(i-1, j,wt,val,track)\n",
    "    else:\n",
    "        option_1 = solution(i-1, j,wt,val,track)\n",
    "        option_2 = solution(i-1, j-wt[i-1],wt,val,track)+ val[i-1]\n",
    "        ans =  max(option_1,option_2)    \n",
    "    track[int(i)][int(j)] = ans \n",
    "    return ans\n",
    "    \n",
    "def knapsack(bag_size,wt,val):\n",
    "    i = 50 # 50 items in each instance\n",
    "    j = bag_size\n",
    "    track = [[]]*(i+1)\n",
    "    for i in range(i+1):\n",
    "        track[i] = [[]]*(j+1)\n",
    "    for a in range(i+1):\n",
    "        track[a][0] = 0\n",
    "    for b in range(j+1):\n",
    "        track[0][b] = 0\n",
    "    \n",
    "    sum = solution(i,j,wt,val,track)\n",
    "    return sum   "
   ]
  },
  {
   "cell_type": "code",
   "execution_count": 2,
   "metadata": {
    "collapsed": true
   },
   "outputs": [],
   "source": [
    "# Read weight and value of each item without using Pandas\n",
    "\n",
    "def read_weight(k):\n",
    "    csv_name = \"./Knapsack_Instances.csv\"\n",
    "    csv = open(csv_name,\"r\")\n",
    "    lines = csv.readlines()\n",
    "    \n",
    "    wt = lines[3*k].split(\",\")\n",
    "    for string in range(len(wt)):    \n",
    "        wt[string] = float(wt[string])\n",
    "    wt = wt[:50]\n",
    "    return wt\n",
    "    \n",
    "def read_value(k):\n",
    "    csv_name = \"./Knapsack_Instances.csv\"\n",
    "    csv = open(csv_name,\"r\")\n",
    "    lines = csv.readlines()\n",
    "    \n",
    "    val = lines[3*k+1].split(\",\")\n",
    "    for string in range(len(val)):\n",
    "        val[string] = float(val[string])\n",
    "    val = val[:50]\n",
    "    return val"
   ]
  },
  {
   "cell_type": "markdown",
   "metadata": {},
   "source": [
    "## 2. Use Monte Carlo to Find a Good Mix of Knapsack Sizes: "
   ]
  },
  {
   "cell_type": "code",
   "execution_count": 8,
   "metadata": {},
   "outputs": [
    {
     "name": "stdout",
     "output_type": "stream",
     "text": [
      "[100, 101, 102, 103, 104, 105, 106, 107, 108, 109, 110, 111, 112, 113, 114, 115, 116, 117, 118, 119, 120, 121, 122, 123, 124, 125, 126, 127, 128, 129, 130, 131, 132, 133, 134, 135, 136, 137, 138, 139, 140, 141, 142, 143, 144, 145, 146, 147, 148, 149, 150]\n"
     ]
    }
   ],
   "source": [
    "# Create all possible target bag size\n",
    "\n",
    "bag_interval = []\n",
    "for i in range(51):\n",
    "    bag_interval.append(i+100)\n",
    "    \n",
    "print(bag_interval)"
   ]
  },
  {
   "cell_type": "code",
   "execution_count": null,
   "metadata": {
    "collapsed": true
   },
   "outputs": [],
   "source": [
    "store_best_size_for_all_instance = []\n",
    "\n",
    "for k in range(500): # 500 instances\n",
    "    \n",
    "    wt = read_weight(k)\n",
    "    val = read_value(k)\n",
    "    \n",
    "    store_average_difference_for_all_target_size = []\n",
    "    \n",
    "    for r in range(len(bag_interval)): # C in U[100,150]\n",
    "  \n",
    "        target_bag_size = bag_interval[r]  \n",
    "        \n",
    "        # find the optimal value given a fixed bag size\n",
    "        target_bag_size_value_original = knapsack(target_bag_size,wt,val)\n",
    "        \n",
    "        # set number of simulations \n",
    "        num_of_simulations = 50000\n",
    "        \n",
    "        # create random bag sizes for the simulation\n",
    "        random_size = np.random.randint(100,151,num_of_simulations)\n",
    "\n",
    "        simulation_result_of_actual_bag_size = {}\n",
    "\n",
    "        total_difference_for_simulation_of_each_target = []\n",
    "\n",
    "        # SIMULATION: \n",
    "        for i in range(num_of_simulations):\n",
    "            \n",
    "            actual_bag_size = random_size[i]\n",
    "\n",
    "            target_bag_size_value = target_bag_size_value_original\n",
    "\n",
    "            if target_bag_size > actual_bag_size: # If you go over C, then you get nothing for that instance\n",
    "                target_bag_size_value = 0\n",
    "\n",
    "            if actual_bag_size in simulation_result_of_actual_bag_size: # Use previously calculated value\n",
    "                actual_bag_size_value = simulation_result_of_actual_bag_size[actual_bag_size]\n",
    "            else:\n",
    "                actual_bag_size_value = knapsack(actual_bag_size,wt,val)\n",
    "                simulation_result_of_actual_bag_size[actual_bag_size] = actual_bag_size_value # Record the size & value\n",
    "\n",
    "            # Compare the difference of value between target bag size & actual bag size \n",
    "            difference_bw_actual_and_target = actual_bag_size_value - target_bag_size_value\n",
    "            total_difference_for_simulation_of_each_target.append(difference_bw_actual_and_target)\n",
    "            \n",
    "        # End of Simulation\n",
    "        \n",
    "        # Calculate the mean difference & store the mean difference for that target size\n",
    "        average_difference_bw_actual_and_target_for_each_target = np.mean(total_difference_for_simulation_of_each_target)\n",
    "        store_average_difference_for_all_target_size.append(average_difference_bw_actual_and_target_for_each_target)\n",
    "    \n",
    "    # Get the best value & size for that instance (a total of 500 instances)\n",
    "    best_value_for_this_instance = np.min(store_average_difference_for_all_target_size)\n",
    "    best_size_for_this_instance = 100 + store_average_difference_for_all_target_size.index(np.min(store_average_difference_for_all_target_size))\n",
    "    print('the best value for instance',(k+1),'is',best_value_for_this_instance)\n",
    "    print('the best size for instance',(k+1),'is',best_size_for_this_instance)\n",
    "    \n",
    "    # Store the best size by appending to the list \n",
    "    store_best_size_for_all_instance.append(best_size_for_this_instance)\n",
    "\n",
    "# Get the best sizes for all instances\n",
    "print(store_best_size_for_all_instance)"
   ]
  }
 ],
 "metadata": {
  "kernelspec": {
   "display_name": "Python 3",
   "language": "python",
   "name": "python3"
  },
  "language_info": {
   "codemirror_mode": {
    "name": "ipython",
    "version": 3
   },
   "file_extension": ".py",
   "mimetype": "text/x-python",
   "name": "python",
   "nbconvert_exporter": "python",
   "pygments_lexer": "ipython3",
   "version": "3.6.3"
  }
 },
 "nbformat": 4,
 "nbformat_minor": 2
}
