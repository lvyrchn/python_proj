{
 "cells": [
  {
   "cell_type": "markdown",
   "metadata": {},
   "source": [
    "# Recommder System for Movies \n",
    "\n",
    "### Recommender System\n",
    "\n",
    "The objective of a Recommender System is to recommend relevant items for users, based on their preference. Recommender system is prevalent in the digital space. For example, when you go shopping on Amazon, you will notice that Amazon is recommending products on the front page before you even type anything in the search box. Similarly, when you go on YouTube, the top bar of Youtube is typically \"videos recommended to you.\" All these features are based on recommmender system. \n",
    "\n",
    "What item to recommend to which user is arguably the most important business decision in many digital platforms. For instance, YouTube cannot control which videos that users upload to it. It cannot control which videos users like to watch. Moreoveor, since watching videos is free, YouTube cannot change the price of its items. It does not have inventory either since each video can be viewed as many times as possible. In this case, what could YouTube control? Or in other words, what differentiates a good video streaming service from a bad one? The answer is recommender system. "
   ]
  },
  {
   "cell_type": "markdown",
   "metadata": {},
   "source": [
    "## Approach 1: Popularity-based Recommendation \n",
    "\n",
    "The most obvious system is popularity-based recommendation. In this case, this model recommends to a user the most popular items that the user has not previously consumed. In the movie setting, we will recommend the movie that most users have liked and consumed. In other words, this system utilizes the \"widom of the crowds.\" It usually provides good recommendations for most of the people. Since it is easy to implement, people normally use popularity-based recommendation as a baseline. *Note: this system is not personalized. If both consumers did not watch Movie A and Movie A is the most popular one, both of them will be recommended Movie A.*"
   ]
  },
  {
   "cell_type": "markdown",
   "metadata": {},
   "source": [
    "### 1. Read-in the preference file"
   ]
  },
  {
   "cell_type": "code",
   "execution_count": null,
   "metadata": {},
   "outputs": [],
   "source": [
    "import pandas as pd\n",
    "\n",
    "def read_in_movie_preference():\n",
    "    file_location = \"./data/movie_preference.csv\"\n",
    "    df = pd.read_csv(file_location)\n",
    "    column_names = list(df.columns[1:])\n",
    "    preference = {}\n",
    "    data = df.values.tolist()\n",
    "    \n",
    "    for person in data:\n",
    "        preference[person[0]] = person[1:]\n",
    "    return [df, column_names, preference]"
   ]
  },
  {
   "cell_type": "markdown",
   "metadata": {},
   "source": [
    "### 2. Compute the ranking of most popular movies"
   ]
  },
  {
   "cell_type": "code",
   "execution_count": null,
   "metadata": {},
   "outputs": [],
   "source": [
    "def movies_popularity_ranking(df, movie_names):\n",
    "    movie_popularity_rank = []\n",
    "    \n",
    "    movie_score = [df.loc[:,name].sum() for name in movie_names]\n",
    "    \n",
    "    sorted_score = sorted(movie_score, reverse = True)\n",
    "    \n",
    "    for i in movie_score:\n",
    "        for j in range(len(sorted_score)):\n",
    "            if i == sorted_score[j]:\n",
    "                movie_popularity_rank.append(j+1)\n",
    "                break\n",
    "        \n",
    "    return movie_popularity_rank"
   ]
  },
  {
   "cell_type": "markdown",
   "metadata": {},
   "source": [
    "### 3. Recommendation"
   ]
  },
  {
   "cell_type": "code",
   "execution_count": null,
   "metadata": {},
   "outputs": [],
   "source": [
    "def Recommendation(movie_popularity_ranking, preference, movie_names, name):\n",
    "    recommended_movie = \"\"\n",
    "    \n",
    "    unwatched = []\n",
    "    \n",
    "    if name in preference:\n",
    "        movie_scores = preference[name]\n",
    "        \n",
    "        if 0 in movie_scores:\n",
    "            for n in range(len(movie_scores)):\n",
    "                if movie_scores[n] == 0:\n",
    "                    unwatched.append(movie_popularity_ranking[n])\n",
    "        \n",
    "        recommend = min(unwatched)\n",
    "        index = unwatched.index(recommend)\n",
    "        recommended_movie = movie_names[index]\n",
    "        print(recommended_movie)\n",
    "    \n",
    "    return recommended_movie"
   ]
  },
  {
   "cell_type": "markdown",
   "metadata": {},
   "source": [
    "## Approach 2: Collaborative Filtering Recommendation\n",
    "\n",
    "This approach uses the memory of previous users interactions to compute users similarities based on items they've interacted (user-based approach) or compute items similarities based on the users that have interacted with them (item-based approach).\n",
    "\n",
    "A typical example of this approach is User Neighbourhood-based CF, in which the top-N similar users (usually computed using Pearson correlation) for a user are selected and used to recommend items those similar users liked, but the current user have not interacted yet. "
   ]
  },
  {
   "cell_type": "markdown",
   "metadata": {},
   "source": [
    "### 1. Read-in the preference file"
   ]
  },
  {
   "cell_type": "code",
   "execution_count": null,
   "metadata": {},
   "outputs": [],
   "source": [
    "import pandas as pd\n",
    "\n",
    "def read_in_movie_preference():\n",
    "    file_location = \"./data/movie_preference.csv\"\n",
    "    df = pd.read_csv(file_location)\n",
    "    column_names = list(df.columns[1:])\n",
    "    preference = {}\n",
    "    data = df.values.tolist()\n",
    "    \n",
    "    for person in data:\n",
    "        preference[person[0]] = person[1:]\n",
    "    return [df, column_names, preference]"
   ]
  },
  {
   "cell_type": "markdown",
   "metadata": {},
   "source": [
    "### 2. Compute the jaccard similarity of any two persons"
   ]
  },
  {
   "cell_type": "code",
   "execution_count": null,
   "metadata": {},
   "outputs": [],
   "source": [
    "def jaccard_similarity(preference_1, preference_2):\n",
    "    js = 0\n",
    "    \n",
    "    nu = 0\n",
    "    de = 0\n",
    "    \n",
    "    for i in range(len(preference_1)):\n",
    "        nu += (preference_1[i]==1 and preference_2[i]==1)\n",
    "        de += (preference_1[i]==1 or preference_2[i]==1)\n",
    "    \n",
    "    if de == 0:\n",
    "        js = 0\n",
    "    else:\n",
    "        js = nu/de\n",
    "    \n",
    "    return js"
   ]
  },
  {
   "cell_type": "markdown",
   "metadata": {},
   "source": [
    "### 3. Finding soulmates"
   ]
  },
  {
   "cell_type": "code",
   "execution_count": null,
   "metadata": {},
   "outputs": [],
   "source": [
    "def Find_Soul_Mate(preference, name):\n",
    "    soulmate = \"\"\n",
    "    soulmate_preference = []\n",
    "    max_js = 0\n",
    "    \n",
    "    for other in preference:\n",
    "        if other != name:\n",
    "            js = jaccard_similarity(preference[other],preference[name])\n",
    "        \n",
    "            if js > max_js or (js == max_js and other < soulmate):\n",
    "                max_js = js \n",
    "                soulmate = other\n",
    "                soulmate_preference = preference[other]                \n",
    "\n",
    "    return [soulmate, soulmate_preference, max_js]"
   ]
  },
  {
   "cell_type": "markdown",
   "metadata": {},
   "source": [
    "### 4. Recommendation\n",
    "This function takes in a name and recommends a movie. The recommended movie is the first movie (in the order of the column) that this person's soulmate has watched but this person has not. If such movie does not exist, return an empty string. If it exists, returns the name of the movie."
   ]
  },
  {
   "cell_type": "code",
   "execution_count": null,
   "metadata": {},
   "outputs": [],
   "source": [
    "def Recommendation(preference, name, movie_names):\n",
    "    recommendation = \"\"\n",
    "    index = 0\n",
    "    \n",
    "    mymovie = preference[name]\n",
    "    soulmovie = Find_Soul_Mate(preference, name)[1]\n",
    "    \n",
    "    for i in range(len(soulmovie)):\n",
    "        if mymovie[i] == 0 and soulmovie == 1:\n",
    "            index = i\n",
    "            break\n",
    "    recommendation = movie_names[index]\n",
    "    return recommendation\n"
   ]
  }
 ],
 "metadata": {
  "kernelspec": {
   "display_name": "Python 3",
   "language": "python",
   "name": "python3"
  },
  "language_info": {
   "codemirror_mode": {
    "name": "ipython",
    "version": 3
   },
   "file_extension": ".py",
   "mimetype": "text/x-python",
   "name": "python",
   "nbconvert_exporter": "python",
   "pygments_lexer": "ipython3",
   "version": "3.6.8"
  }
 },
 "nbformat": 4,
 "nbformat_minor": 2
}
